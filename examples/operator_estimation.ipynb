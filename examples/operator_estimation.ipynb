{
 "cells": [
  {
   "cell_type": "markdown",
   "metadata": {},
   "source": [
    "# Operator Estimation\n",
    "\n",
    "Measure observables is a convenient abstraction that allows...."
   ]
  },
  {
   "cell_type": "code",
   "execution_count": 38,
   "metadata": {},
   "outputs": [],
   "source": [
    "import numpy as np\n",
    "from pyquil import Program, get_qc\n",
    "from pyquil.gates import *"
   ]
  },
  {
   "cell_type": "markdown",
   "metadata": {},
   "source": [
    "## Construct a state with a `Program`\n"
   ]
  },
  {
   "cell_type": "code",
   "execution_count": 64,
   "metadata": {},
   "outputs": [
    {
     "name": "stdout",
     "output_type": "stream",
     "text": [
      "H 1\n",
      "\n"
     ]
    }
   ],
   "source": [
    "qubits = [0]\n",
    "prog = Program(H(qubit))\n",
    "print(prog)"
   ]
  },
  {
   "cell_type": "markdown",
   "metadata": {},
   "source": [
    "## Construct a `ObservablesExperiment` and turn it into a list of `Programs`\n"
   ]
  },
  {
   "cell_type": "code",
   "execution_count": 80,
   "metadata": {},
   "outputs": [
    {
     "name": "stdout",
     "output_type": "stream",
     "text": [
      "ExperimentSetting:\n",
      "==================\n",
      " [ExperimentSetting[Z0_0→(1+0j)*I], ExperimentSetting[Z0_0→(1+0j)*X0], ExperimentSetting[Z0_0→(1+0j)*Y0], ExperimentSetting[Z0_0→(1+0j)*Z0]] \n",
      "\n",
      "ObservablesExperiment:\n",
      "======================\n",
      " H 1\n",
      "0: Z0_0→(1+0j)*I\n",
      "1: Z0_0→(1+0j)*X0\n",
      "2: Z0_0→(1+0j)*Y0\n",
      "3: Z0_0→(1+0j)*Z0 \n",
      "\n",
      "Programs and Qubits:\n",
      "======================\n",
      " ([<pyquil.quil.Program object at 0xa167e86a0>, <pyquil.quil.Program object at 0xa162a2390>, <pyquil.quil.Program object at 0xa167e82e8>, <pyquil.quil.Program object at 0xa162a2c18>], [[], [0], [0], [0]])\n"
     ]
    }
   ],
   "source": [
    "from pyquil.paulis import *\n",
    "from forest.benchmarking.operator_estimation import ExperimentSetting, zeros_state,ObservablesExperiment, generate_experiment_programs\n",
    "\n",
    "# make ExperimentSetting\n",
    "expt_settings = [ExperimentSetting(zeros_state([0]), pt) for pt in [sI(0), sX(0), sY(0), sZ(0)]]\n",
    "print('ExperimentSetting:\\n==================\\n',expt_settings,'\\n')\n",
    "\n",
    "# make an ObservablesExperiment\n",
    "obs_expt = ObservablesExperiment(expt_settings, program=prog)\n",
    "print('ObservablesExperiment:\\n======================\\n',obs_expt,'\\n')\n",
    "\n",
    "# convert it to a list of programs and a list of qubits\n",
    "expt_progs = generate_experiment_programs(obs_expt, active_reset=False)\n",
    "print('Programs and Qubits:\\n======================\\n', expt_progs)"
   ]
  },
  {
   "cell_type": "markdown",
   "metadata": {},
   "source": [
    "## PyQuil will run the tomography programs"
   ]
  },
  {
   "cell_type": "code",
   "execution_count": null,
   "metadata": {},
   "outputs": [],
   "source": [
    "from pyquil.operator_estimation import measure_observables\n",
    "\n",
    "qc = get_qc('2q-qvm')\n",
    "# Over-write full quilc compilation with a much more simple\n",
    "# version that *only* substitutes gates to Rigetti-native gates.\n",
    "# We don't want to accidentally compile away our tomography circuit\n",
    "# or map to different qubits.\n",
    "from forest.benchmarking.compilation import basic_compile\n",
    "qc.compiler.quil_to_native_quil = basic_compile\n",
    "\n",
    "results = list(measure_observables(qc=qc, tomo_experiment=experiment, n_shots=1_000))\n",
    "results"
   ]
  },
  {
   "cell_type": "code",
   "execution_count": null,
   "metadata": {},
   "outputs": [],
   "source": []
  },
  {
   "cell_type": "code",
   "execution_count": null,
   "metadata": {},
   "outputs": [],
   "source": []
  },
  {
   "cell_type": "code",
   "execution_count": null,
   "metadata": {},
   "outputs": [],
   "source": []
  },
  {
   "cell_type": "code",
   "execution_count": null,
   "metadata": {},
   "outputs": [],
   "source": []
  },
  {
   "cell_type": "code",
   "execution_count": null,
   "metadata": {},
   "outputs": [],
   "source": []
  }
 ],
 "metadata": {
  "kernelspec": {
   "display_name": "Python 3",
   "language": "python",
   "name": "python3"
  },
  "language_info": {
   "codemirror_mode": {
    "name": "ipython",
    "version": 3
   },
   "file_extension": ".py",
   "mimetype": "text/x-python",
   "name": "python",
   "nbconvert_exporter": "python",
   "pygments_lexer": "ipython3",
   "version": "3.7.3"
  }
 },
 "nbformat": 4,
 "nbformat_minor": 2
}
